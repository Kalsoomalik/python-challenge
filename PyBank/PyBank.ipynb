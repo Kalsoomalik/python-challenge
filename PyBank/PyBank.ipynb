{
 "cells": [
  {
   "cell_type": "code",
   "execution_count": 77,
   "metadata": {},
   "outputs": [
    {
     "name": "stdout",
     "output_type": "stream",
     "text": [
      "<_csv.reader object at 0x105d93748>\n",
      "['Date', 'Revenue']\n",
      "['Oct-12', '1154293']\n",
      "['Nov-12', '885773']\n",
      "['Dec-12', '-448704']\n",
      "['Jan-13', '563679']\n",
      "['Feb-13', '555394']\n",
      "['Mar-13', '631974']\n",
      "['Apr-13', '957395']\n",
      "['May-13', '1104047']\n",
      "['Jun-13', '693464']\n",
      "['Jul-13', '454932']\n",
      "['Aug-13', '727272']\n",
      "['Sep-13', '125016']\n",
      "['Oct-13', '339251']\n",
      "['Nov-13', '78523']\n",
      "['Dec-13', '977084']\n",
      "['Jan-14', '1158718']\n",
      "['Feb-14', '332681']\n",
      "['Mar-14', '-341227']\n",
      "['Apr-14', '173826']\n",
      "['May-14', '742611']\n",
      "['Jun-14', '1189806']\n",
      "['Jul-14', '607363']\n",
      "['Aug-14', '-1172384']\n",
      "['Sep-14', '587993']\n",
      "['Oct-14', '295198']\n",
      "['Nov-14', '-300390']\n",
      "['Dec-14', '468995']\n",
      "['Jan-15', '698452']\n",
      "['Feb-15', '967828']\n",
      "['Mar-15', '-454873']\n",
      "['Apr-15', '375723']\n",
      "['May-15', '1140526']\n",
      "['Jun-15', '83836']\n",
      "['Jul-15', '413189']\n",
      "['Aug-15', '551363']\n",
      "['Sep-15', '1195111']\n",
      "['Oct-15', '657081']\n",
      "['Nov-15', '66659']\n",
      "['Dec-15', '803301']\n",
      "['Jan-16', '-953301']\n",
      "['Feb-16', '883934']\n"
     ]
    },
    {
     "ename": "TypeError",
     "evalue": "'_csv.reader' object is not subscriptable",
     "output_type": "error",
     "traceback": [
      "\u001b[0;31m---------------------------------------------------------------------------\u001b[0m",
      "\u001b[0;31mTypeError\u001b[0m                                 Traceback (most recent call last)",
      "\u001b[0;32m<ipython-input-77-50209a7d9478>\u001b[0m in \u001b[0;36m<module>\u001b[0;34m()\u001b[0m\n\u001b[1;32m     15\u001b[0m         \u001b[0mprint\u001b[0m\u001b[0;34m(\u001b[0m\u001b[0mrow\u001b[0m\u001b[0;34m)\u001b[0m\u001b[0;34m\u001b[0m\u001b[0m\n\u001b[1;32m     16\u001b[0m \u001b[0;34m\u001b[0m\u001b[0m\n\u001b[0;32m---> 17\u001b[0;31m     \u001b[0mmonth_count\u001b[0m \u001b[0;34m=\u001b[0m \u001b[0mdata\u001b[0m\u001b[0;34m[\u001b[0m\u001b[0;34m'Date'\u001b[0m\u001b[0;34m]\u001b[0m\u001b[0;34m.\u001b[0m\u001b[0mvalue_counts\u001b[0m\u001b[0;34m(\u001b[0m\u001b[0;34m)\u001b[0m\u001b[0;34m\u001b[0m\u001b[0m\n\u001b[0m\u001b[1;32m     18\u001b[0m     \u001b[0mprint\u001b[0m\u001b[0;34m(\u001b[0m\u001b[0mmonth_count\u001b[0m\u001b[0;34m)\u001b[0m\u001b[0;34m\u001b[0m\u001b[0m\n",
      "\u001b[0;31mTypeError\u001b[0m: '_csv.reader' object is not subscriptable"
     ]
    }
   ],
   "source": [
    "import os\n",
    "import csv\n",
    "import calendar\n",
    "\n",
    "# Store the file path associated with the file\n",
    "budget_data_file = './resources/budget_data_1.csv'\n",
    "\n",
    "# Open the file in \"read\" mode ('r') and store the contents in the variable \"text\"\n",
    "with open(budget_data_file, 'r') as budget_data:\n",
    "    data = csv.reader(budget_data, delimiter=',')\n",
    "    print(data)\n",
    "    \n",
    "    #  Each row is read as a row\n",
    "    for row in data:\n",
    "        print(row)\n",
    "        \n",
    "    month_count = data['Date'].value_counts()\n",
    "    print(month_count)"
   ]
  },
  {
   "cell_type": "code",
   "execution_count": null,
   "metadata": {},
   "outputs": [],
   "source": []
  },
  {
   "cell_type": "code",
   "execution_count": null,
   "metadata": {},
   "outputs": [],
   "source": []
  }
 ],
 "metadata": {
  "kernelspec": {
   "display_name": "Python 3",
   "language": "python",
   "name": "python3"
  },
  "language_info": {
   "codemirror_mode": {
    "name": "ipython",
    "version": 3
   },
   "file_extension": ".py",
   "mimetype": "text/x-python",
   "name": "python",
   "nbconvert_exporter": "python",
   "pygments_lexer": "ipython3",
   "version": "3.6.4"
  }
 },
 "nbformat": 4,
 "nbformat_minor": 2
}
